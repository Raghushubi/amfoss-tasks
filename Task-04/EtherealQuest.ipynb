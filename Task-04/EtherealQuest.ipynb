{
 "cells": [
  {
   "cell_type": "code",
   "execution_count": null,
   "id": "2f433cd7-907e-49e6-afcc-16210aebf02a",
   "metadata": {},
   "outputs": [],
   "source": [
    "n = int(input())\n",
    "sumx=sumy=sumz=0\n",
    "for i in range(n):\n",
    "    X, Y, Z = map(int, input().split())\n",
    "    sumx += X\n",
    "    sumy += Y\n",
    "    sumz += Z\n",
    "if sumx==0 and sumy==0 and sumz==0:\n",
    "    print(\"YES\")\n",
    "else:\n",
    "    print(\"NO\")"
   ]
  }
 ],
 "metadata": {
  "kernelspec": {
   "display_name": "Python 3 (ipykernel)",
   "language": "python",
   "name": "python3"
  },
  "language_info": {
   "codemirror_mode": {
    "name": "ipython",
    "version": 3
   },
   "file_extension": ".py",
   "mimetype": "text/x-python",
   "name": "python",
   "nbconvert_exporter": "python",
   "pygments_lexer": "ipython3",
   "version": "3.11.4"
  }
 },
 "nbformat": 4,
 "nbformat_minor": 5
}
