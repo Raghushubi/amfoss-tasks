{
 "cells": [
  {
   "cell_type": "code",
   "execution_count": 2,
   "id": "3d74b5cc-39f6-494c-b372-b9cb4da0df09",
   "metadata": {},
   "outputs": [
    {
     "name": "stdin",
     "output_type": "stream",
     "text": [
      " 67\n"
     ]
    },
    {
     "name": "stdout",
     "output_type": "stream",
     "text": [
      "[2, 3, 5, 7, 11, 13, 17, 19, 23, 29, 31, 37, 41, 43, 47, 53, 59, 61, 67]\n"
     ]
    }
   ],
   "source": [
    "n=int(input())\n",
    "plst=[2]\n",
    "for p in range(3,n+1,2):\n",
    "    plst.append(p)\n",
    "for d in range(3,(n+1)//3,2):\n",
    "    for ele in plst:\n",
    "        if ele % d ==0 and ele != d:\n",
    "            plst.remove(ele)\n",
    "print(plst)"
   ]
  }
 ],
 "metadata": {
  "kernelspec": {
   "display_name": "Python 3 (ipykernel)",
   "language": "python",
   "name": "python3"
  },
  "language_info": {
   "codemirror_mode": {
    "name": "ipython",
    "version": 3
   },
   "file_extension": ".py",
   "mimetype": "text/x-python",
   "name": "python",
   "nbconvert_exporter": "python",
   "pygments_lexer": "ipython3",
   "version": "3.11.4"
  }
 },
 "nbformat": 4,
 "nbformat_minor": 5
}
