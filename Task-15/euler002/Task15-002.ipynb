{
 "cells": [
  {
   "cell_type": "code",
   "execution_count": null,
   "id": "be027646-7674-4f9d-956a-8f214639c5aa",
   "metadata": {},
   "outputs": [],
   "source": [
    "while True:\n",
    "    T = int(input())\n",
    "    if 1 <= T <= 10**5:\n",
    "        break\n",
    "    else:\n",
    "        print(\"Invalid input. T should be between 1 and 10^5 inclusive.\")\n",
    "\n",
    "for a0 in range(T):\n",
    "    lst = [1, 2]\n",
    "    while True:\n",
    "        N = int(input())\n",
    "        if 1 <= N <= 4 * (10**16):\n",
    "            break\n",
    "        else:\n",
    "            print(\"Invalid input. N should be between 1 and 4 * 10^16 inclusive.\")\n",
    "\n",
    "    x = 1\n",
    "    while True:\n",
    "        a = lst[x] + lst[x - 1]\n",
    "        if a <= N:\n",
    "            lst.append(a)\n",
    "        else:\n",
    "            break\n",
    "        x += 1\n",
    "\n",
    "    list = [x for x in lst if x % 2 == 0]\n",
    "    print(sum(list))"
   ]
  }
 ],
 "metadata": {
  "kernelspec": {
   "display_name": "Python 3 (ipykernel)",
   "language": "python",
   "name": "python3"
  },
  "language_info": {
   "codemirror_mode": {
    "name": "ipython",
    "version": 3
   },
   "file_extension": ".py",
   "mimetype": "text/x-python",
   "name": "python",
   "nbconvert_exporter": "python",
   "pygments_lexer": "ipython3",
   "version": "3.11.4"
  }
 },
 "nbformat": 4,
 "nbformat_minor": 5
}
