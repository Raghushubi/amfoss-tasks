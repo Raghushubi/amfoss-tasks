{
 "cells": [
  {
   "cell_type": "code",
   "execution_count": null,
   "id": "62765343-9c85-46f1-bc45-d56024f89e47",
   "metadata": {},
   "outputs": [],
   "source": [
    "def is_palindrome(num):\n",
    "    return str(num) == str(num)[::-1]\n",
    "\n",
    "def largest_palindrome_product(n):\n",
    "    largest_palindrome = 0\n",
    "    for i in range(999, 99, -1):\n",
    "        for j in range(i, 99, -1):\n",
    "            product = i * j\n",
    "            if product < n and is_palindrome(product) and product > largest_palindrome:\n",
    "                largest_palindrome = product\n",
    "    return largest_palindrome\n",
    "\n",
    "t = int(input().strip())\n",
    "for _ in range(t):\n",
    "    n = int(input().strip())\n",
    "    result = largest_palindrome_product(n)\n",
    "    print(result)"
   ]
  }
 ],
 "metadata": {
  "kernelspec": {
   "display_name": "Python 3 (ipykernel)",
   "language": "python",
   "name": "python3"
  },
  "language_info": {
   "codemirror_mode": {
    "name": "ipython",
    "version": 3
   },
   "file_extension": ".py",
   "mimetype": "text/x-python",
   "name": "python",
   "nbconvert_exporter": "python",
   "pygments_lexer": "ipython3",
   "version": "3.11.4"
  }
 },
 "nbformat": 4,
 "nbformat_minor": 5
}
