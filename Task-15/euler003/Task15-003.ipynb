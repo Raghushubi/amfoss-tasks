{
 "cells": [
  {
   "cell_type": "code",
   "execution_count": null,
   "id": "3b477164-8acd-4d6a-80fa-caac0f293335",
   "metadata": {},
   "outputs": [],
   "source": [
    "import math\n",
    "def largest_prime_factor(N):\n",
    "    largest_prime = -1\n",
    "    while N % 2 == 0:\n",
    "        largest_prime = 2\n",
    "        N //= 2\n",
    "    for x in range(3, int(math.sqrt(N)) + 1, 2):\n",
    "        while N % x == 0:\n",
    "            largest_prime = x\n",
    "            N //= x\n",
    "    if N > 1:\n",
    "        largest_prime = N\n",
    "\n",
    "    return largest_prime\n",
    "T = int(input())\n",
    "for i in range(T):\n",
    "    N = int(input())\n",
    "    result = largest_prime_factor(N)\n",
    "    print(result)"
   ]
  }
 ],
 "metadata": {
  "kernelspec": {
   "display_name": "Python 3 (ipykernel)",
   "language": "python",
   "name": "python3"
  },
  "language_info": {
   "codemirror_mode": {
    "name": "ipython",
    "version": 3
   },
   "file_extension": ".py",
   "mimetype": "text/x-python",
   "name": "python",
   "nbconvert_exporter": "python",
   "pygments_lexer": "ipython3",
   "version": "3.11.4"
  }
 },
 "nbformat": 4,
 "nbformat_minor": 5
}
