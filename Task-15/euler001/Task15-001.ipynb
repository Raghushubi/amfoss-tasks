{
 "cells": [
  {
   "cell_type": "code",
   "execution_count": null,
   "id": "00fb8539-9109-4af7-9884-c4de901154c6",
   "metadata": {},
   "outputs": [],
   "source": [
    "def sum_divisible_by(n, target):\n",
    "    p = target // n\n",
    "    return n * p * (p+1) // 2\n",
    "\n",
    "while True:\n",
    "    T = int(input())\n",
    "    if 1 <= T <= 10**5:\n",
    "        break\n",
    "    else:\n",
    "        print(\"Invalid input. T should be between 1 and 10^5 inclusive.\")\n",
    "\n",
    "for s in range(T):\n",
    "    while True:\n",
    "        N = int(input())\n",
    "        if 1 <= N <= 10**9:\n",
    "            break\n",
    "        else:\n",
    "            print(\"Invalid input. N should be between 1 and 10^9 inclusive.\")\n",
    "\n",
    "    total = sum_divisible_by(3, N - 1) + sum_divisible_by(5, N - 1) - sum_divisible_by(15, N - 1)\n",
    "\n",
    "    print(total)"
   ]
  }
 ],
 "metadata": {
  "kernelspec": {
   "display_name": "Python 3 (ipykernel)",
   "language": "python",
   "name": "python3"
  },
  "language_info": {
   "codemirror_mode": {
    "name": "ipython",
    "version": 3
   },
   "file_extension": ".py",
   "mimetype": "text/x-python",
   "name": "python",
   "nbconvert_exporter": "python",
   "pygments_lexer": "ipython3",
   "version": "3.11.4"
  }
 },
 "nbformat": 4,
 "nbformat_minor": 5
}
